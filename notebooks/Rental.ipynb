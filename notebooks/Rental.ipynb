{
 "cells": [
  {
   "cell_type": "code",
   "execution_count": 1,
   "metadata": {
    "ExecuteTime": {
     "end_time": "2023-08-01T13:29:03.423911Z",
     "start_time": "2023-08-01T13:29:03.392765Z"
    }
   },
   "outputs": [],
   "source": [
    "from collections import namedtuple\n",
    "from mortgage import Loan\n",
    "\n",
    "Cashflow = namedtuple('Cashflow', 'number rent hoa management_fee tax home_insurance flood_insurance interest principal')\n",
    "\n",
    "class Rental:    \n",
    "    def __init__(self, price, monthly_rent, monthly_hoa, monthly_utilities = 0.0, management_fee = 0.0, tax_rate = 0.0035, home_ins_rate = 0.007, flood_ins_rate = 0.003, loan_ratio = 0.85, \\\n",
    "                 loan_term = 15, loan_rate = 0.06, income_tax_rate = 0.37, additional_investment = 0.0, include_add_inv_in_loan: bool = False):\n",
    "        self._price = price\n",
    "        self._additional_investment = additional_investment\n",
    "        self._include_add_inv_in_loan = include_add_inv_in_loan\n",
    "        self._rent = monthly_rent\n",
    "        self._hoa = monthly_hoa\n",
    "        self._utilities = monthly_utilities\n",
    "        self._management_fee = monthly_rent*management_fee\n",
    "        self._tax = price*tax_rate/12\n",
    "        self._home_insurance = price*home_ins_rate/12\n",
    "        self._flood_insurance = price*flood_ins_rate/12\n",
    "        loan_amount = (price + additional_investment) if include_add_inv_in_loan else price\n",
    "        self._loan = Loan(principal=loan_amount*loan_ratio, interest=loan_rate, term=loan_term)\n",
    "        self._schedule = self._initialize_schedule()\n",
    "        self._income_tax_rate = income_tax_rate\n",
    "        \n",
    "    def schedule(self, nth_payment=None):\n",
    "        if nth_payment:\n",
    "            data = self._schedule[nth_payment]\n",
    "        else:\n",
    "            data = self._schedule\n",
    "        return data\n",
    "    \n",
    "    def _initialize_schedule(self):\n",
    "        initialize = Cashflow(number=0,\n",
    "                              rent=0,\n",
    "                              hoa=0,\n",
    "                              management_fee=0,\n",
    "                              tax=0,\n",
    "                              home_insurance=0,\n",
    "                              flood_insurance=0,\n",
    "                              interest=0,\n",
    "                              principal=0)\n",
    "        \n",
    "        schedule = []\n",
    "                \n",
    "        for loan_sch in self._loan.schedule():\n",
    "            cashflow = Cashflow(number=loan_sch.number,\n",
    "                                rent=self._rent,\n",
    "                                hoa=self._hoa,\n",
    "                                management_fee=self._management_fee,\n",
    "                                tax=self._tax,\n",
    "                                home_insurance=self._home_insurance,\n",
    "                                flood_insurance=self._flood_insurance,\n",
    "                                interest=float(loan_sch.interest),\n",
    "                                principal=float(loan_sch.principal))\n",
    "\n",
    "            schedule.append(cashflow)\n",
    "        return schedule\n",
    "\n",
    "    def summarize(self, output_type=None):\n",
    "\n",
    "        original_investment =  self._price + self._additional_investment - float(self._loan.principal)\n",
    "        tax_deductibles = float(self._loan.schedule(1).interest) + self._home_insurance + self._flood_insurance + self._management_fee + self._hoa + self._tax + self._utilities\n",
    "        not_tax_deductibles = float(self._loan.schedule(1).principal)\n",
    "        taxable_income = self._rent - tax_deductibles\n",
    "        income_after_tax = taxable_income * 12 * (1 - self._income_tax_rate)\n",
    "\n",
    "        if output_type is None:\n",
    "            print(summarize('txt'))\n",
    "        \n",
    "        output = \"\"\n",
    "        if output_type.lower() == 'txt':\n",
    "            new_line = '\\n'\n",
    "            tab = '\\t'\n",
    "        elif output_type.lower() == 'html':\n",
    "            new_line = '<br>'\n",
    "            tab = '    '\n",
    "            output += \"<pre>\"\n",
    "        else:\n",
    "            raise exception(\"Invalid output type. please use either txt, html on None\")\n",
    "                \n",
    "        output += 'Key Info'\n",
    "        output += '{}{}Property Purchase Price:  {}{:>11,.0f}'.format(new_line, tab, self._loan._currency, self._price)\n",
    "        output += '{}{}Additional Setup Cost:    {}{:>11,.0f}'.format(new_line, tab, self._loan._currency, self._additional_investment)\n",
    "        output += '{}'.format(new_line)\n",
    "        output += '{} Loan'.format(new_line)\n",
    "        output += '{}{}Initial Investment:       {}{:>11,.0f}'.format(new_line, tab, self._loan._currency, original_investment)\n",
    "        output += '{}{}Loan Principal:           {}{:>11,.0f}'.format(new_line, tab, self._loan._currency, self._loan.principal)\n",
    "        output += '{}'.format(new_line)\n",
    "        output += '{} Rent & Costs'.format(new_line)\n",
    "        output += '{}{}Monthly Rent:             {}{:>11,.0f}'.format(new_line, tab, self._loan._currency, self._rent)        \n",
    "        output += '{}{}Monthly Costs:            {}{:>11,.0f}'.format(new_line, tab, self._loan._currency, tax_deductibles + not_tax_deductibles)\n",
    "        output += '{}{} - Loan Payment:          {}{:>11,.0f}'.format(new_line, tab, self._loan._currency, self._loan.monthly_payment)\n",
    "        output += '{}{}   * Principal:           {}{:>11,.0f}'.format(new_line, tab, self._loan._currency, self._loan.schedule(1).principal)\n",
    "        output += '{}{}   * Interest:            {}{:>11,.0f}'.format(new_line, tab, self._loan._currency, self._loan.schedule(1).interest)\n",
    "        output += '{}{} - HOA:                   {}{:>11,.0f}'.format(new_line, tab, self._loan._currency, self._hoa)\n",
    "        output += '{}{} - Utilities:             {}{:>11,.0f}'.format(new_line, tab, self._loan._currency, self._utilities)\n",
    "        output += '{}{} - Management Fees:       {}{:>11,.0f}'.format(new_line, tab, self._loan._currency, self._management_fee)\n",
    "        output += '{}{} - Tax:                   {}{:>11,.0f}'.format(new_line, tab, self._loan._currency, self._tax)\n",
    "        output += '{}{} - Insurance:             {}{:>11,.0f}'.format(new_line, tab, self._loan._currency, self._home_insurance + self._flood_insurance)\n",
    "        output += '{}{}   * Home Insurance:      {}{:>11,.0f}'.format(new_line, tab, self._loan._currency, self._home_insurance)\n",
    "        output += '{}{}   * Flood Insurance:     {}{:>11,.0f}'.format(new_line, tab, self._loan._currency, self._flood_insurance)\n",
    "        output += '{}'.format(new_line)\n",
    "        output += '{} Income & Tax'.format(new_line)\n",
    "        output += '{}{}Total Rent:               {}{:>11,.0f} p.a.'.format(new_line, tab, self._loan._currency, self._rent * 12)  \n",
    "        output += '{}{}Tax Deductibles:          {}{:>11,.0f} p.a.'.format(new_line, tab, self._loan._currency, tax_deductibles * 12)          \n",
    "        output += '{}{}Taxable Income:           {}{:>11,.0f} p.a.'.format(new_line, tab, self._loan._currency, taxable_income * 12)\n",
    "        output += '{}{}Income After Tax:         {}{:>11,.0f} p.a.'.format(new_line, tab, self._loan._currency, income_after_tax)\n",
    "        output += '{}{}Cashflow:                 {}{:>11,.0f} p.a.'.format(new_line, tab, self._loan._currency, income_after_tax - not_tax_deductibles * 12)\n",
    "        output += '{}'.format(new_line)\n",
    "        output += '{} ROI'.format(new_line)\n",
    "        output += '{}{}Net ROI:                    {:>10,.0%} p.a.'.format(new_line, tab, (taxable_income * 12) * (1 - self._income_tax_rate) / original_investment)\n",
    "        output += '{}{}Loan Leverage:              {:>10,.1f}'.format(new_line, tab, 1+ float(self._loan.principal) / original_investment)\n",
    "        return output"
   ]
  },
  {
   "cell_type": "code",
   "execution_count": 2,
   "metadata": {
    "ExecuteTime": {
     "end_time": "2023-08-01T13:29:03.454353Z",
     "start_time": "2023-08-01T13:29:03.425918Z"
    }
   },
   "outputs": [
    {
     "name": "stdout",
     "output_type": "stream",
     "text": [
      "Key Info\n",
      "\tProperty Purchase Price:  $  1,000,000\n",
      "\tAdditional Setup Cost:    $    150,000\n",
      "\n",
      " Loan\n",
      "\tInitial Investment:       $    400,000\n",
      "\tLoan Principal:           $    750,000\n",
      "\n",
      " Rent & Costs\n",
      "\tMonthly Rent:             $     20,000\n",
      "\tMonthly Costs:            $     10,267\n",
      "\t - Loan Payment:          $      5,767\n",
      "\t   * Principal:           $        454\n",
      "\t   * Interest:            $      5,312\n",
      "\t - HOA:                   $          0\n",
      "\t - Utilities:             $      2,000\n",
      "\t - Management Fees:       $          0\n",
      "\t - Tax:                   $      1,667\n",
      "\t - Insurance:             $        833\n",
      "\t   * Home Insurance:      $        583\n",
      "\t   * Flood Insurance:     $        250\n",
      "\n",
      " Income & Tax\n",
      "\tTotal Rent:               $    240,000 p.a.\n",
      "\tTax Deductibles:          $    117,750 p.a.\n",
      "\tTaxable Income:           $    122,250 p.a.\n",
      "\tIncome After Tax:         $     77,018 p.a.\n",
      "\tCashflow:                 $     71,565 p.a.\n",
      "\n",
      " ROI\n",
      "\tNet ROI:                           19% p.a.\n",
      "\tLoan Leverage:                     2.9\n"
     ]
    }
   ],
   "source": [
    "print(Rental(price=1000000, monthly_rent=20000, monthly_hoa=0.0, monthly_utilities=2000, management_fee=0.00, tax_rate=0.02, \\\n",
    "             home_ins_rate=0.007, flood_ins_rate=0.003, loan_ratio=0.75, loan_term=30, loan_rate=0.085, additional_investment=150000).summarize('txt'))"
   ]
  },
  {
   "cell_type": "code",
   "execution_count": 4,
   "metadata": {
    "ExecuteTime": {
     "end_time": "2023-08-01T14:58:11.775084Z",
     "start_time": "2023-08-01T14:58:11.719131Z"
    }
   },
   "outputs": [
    {
     "name": "stdout",
     "output_type": "stream",
     "text": [
      "<pre>Key Info<br>    Property Purchase Price:  $  1,000,000<br>    Additional Setup Cost:    $    150,000<br><br> Loan<br>    Initial Investment:       $    400,000<br>    Loan Principal:           $    750,000<br><br> Rent & Costs<br>    Monthly Rent:             $     20,000<br>    Monthly Costs:            $     10,267<br>     - Loan Payment:          $      5,767<br>       * Principal:           $        454<br>       * Interest:            $      5,312<br>     - HOA:                   $          0<br>     - Utilities:             $      2,000<br>     - Management Fees:       $          0<br>     - Tax:                   $      1,667<br>     - Insurance:             $        833<br>       * Home Insurance:      $        583<br>       * Flood Insurance:     $        250<br><br> Income & Tax<br>    Total Rent:               $    240,000 p.a.<br>    Tax Deductibles:          $    117,750 p.a.<br>    Taxable Income:           $    122,250 p.a.<br>    Income After Tax:         $     77,018 p.a.<br>    Cashflow:                 $     71,565 p.a.<br><br> ROI<br>    Net ROI:                           19% p.a.<br>    Loan Leverage:                     2.9\n"
     ]
    }
   ],
   "source": [
    "print(Rental(price=1000000, monthly_rent=20000, monthly_hoa=0.0, monthly_utilities=2000, management_fee=0.00, tax_rate=0.02, \\\n",
    "             home_ins_rate=0.007, flood_ins_rate=0.003, loan_ratio=0.75, loan_term=30, loan_rate=0.085, additional_investment=150000).summarize('html'))"
   ]
  },
  {
   "cell_type": "code",
   "execution_count": null,
   "metadata": {},
   "outputs": [],
   "source": []
  }
 ],
 "metadata": {
  "kernelspec": {
   "display_name": "Python 3 (ipykernel)",
   "language": "python",
   "name": "python3"
  },
  "language_info": {
   "codemirror_mode": {
    "name": "ipython",
    "version": 3
   },
   "file_extension": ".py",
   "mimetype": "text/x-python",
   "name": "python",
   "nbconvert_exporter": "python",
   "pygments_lexer": "ipython3",
   "version": "3.11.0"
  }
 },
 "nbformat": 4,
 "nbformat_minor": 4
}
